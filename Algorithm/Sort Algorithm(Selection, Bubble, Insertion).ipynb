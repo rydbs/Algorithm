{
 "cells": [
  {
   "cell_type": "markdown",
   "metadata": {},
   "source": [
    "# 정렬 알고리즘 - 선택(Selection), 삽입(Insertion), 버블(Bubble)\n",
    "\n",
    "## 선택 정렬 (Selection Sort)\n",
    "\n",
    "---\n",
    "\n",
    "***“가장 작은 것을 가장 앞으로”***\n",
    "\n",
    "가장 작은 원소를 찾아 가장 앞에 있는 원소와 비교하여 정렬\n",
    "\n",
    "ex) 3 8 2 5 6 1 7 4 10 9\n",
    "1 8 2 5 6 3 7 4 10 9\n",
    "1 2 8 5 6 3 7 4 10 9\n",
    "1 2 3 5 6 8 7 4 10 9\n",
    "\n",
    "![selection sort example]https://upload.wikimedia.org/wikipedia/commons/9/94/Selection-Sort-Animation.gif\n",
    "\n",
    "원소가 n개일 때, 정렬을 위해서 n번 돌고, n-1번 돌고, n-2번 돌고 ... 1번 도는 형태이므로 {n*(n+1)}/2가 되고\n",
    "n이 무한히 크면, 복잡도는 O(n*n)이 된다."
   ]
  }
 ],
 "metadata": {
  "language_info": {
   "name": "python"
  },
  "orig_nbformat": 4
 },
 "nbformat": 4,
 "nbformat_minor": 2
}
