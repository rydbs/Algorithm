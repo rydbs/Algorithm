{
 "cells": [
  {
   "cell_type": "markdown",
   "metadata": {},
   "source": [
    "# 정렬 알고리즘 - 선택(Selection), 삽입(Insertion), 버블(Bubble)\n",
    "\n",
    "## 선택 정렬 (Selection Sort)\n",
    "\n",
    "---\n",
    "\n",
    "***“가장 작은 것을 가장 앞으로”***\n",
    "\n",
    "가장 작은 원소를 찾아 가장 앞에 있는 원소와 비교하여 정렬\n",
    "\n",
    "ex) 3 8 2 5 6 1 7 4 10 9\n",
    "1 8 2 5 6 3 7 4 10 9\n",
    "1 2 8 5 6 3 7 4 10 9\n",
    "1 2 3 5 6 8 7 4 10 9\n",
    "\n",
    "![selection sort example](https://upload.wikimedia.org/wikipedia/commons/9/94/Selection-Sort-Animation.gif)\n",
    "\n",
    "원소가 n개일 때, 정렬을 위해서 n번 돌고, n-1번 돌고, n-2번 돌고 ... 1번 도는 형태이므로 {n*(n+1)}/2가 되고\n",
    "n이 무한히 크면, 복잡도는 O(n*n)이 된다."
   ]
  },
  {
   "cell_type": "code",
   "execution_count": null,
   "metadata": {},
   "outputs": [],
   "source": [
    "#선택 정렬\n",
    "def selectionSort(x):\n",
    "    length = len(x)\n",
    "    for i in range(length-1):\n",
    "        indexMin=i\n",
    "        for j in range(i+1, length):\n",
    "            if x[indexMin] > x[j]:\n",
    "                indexMin=j\n",
    "        x[i], x[indexMin]=x[indexMin], x[i]\n",
    "    return x"
   ]
  },
  {
   "cell_type": "markdown",
   "metadata": {},
   "source": [
    "\n",
    "  \n",
    "## 버블 정렬 (Bubble Sort)\n",
    "\n",
    "---\n",
    "\n",
    "***“주위에 있는 원소와 비교하여 더 작은 값을 앞으로”***\n",
    "\n",
    "옆에 있는 원소와 비교했을 때 오른쪽에 위치한 원소의 값이 더 작으면 서로 위치를 바꾸어 정렬\n",
    "\n",
    "ex) 3 8 2 5 6 1 7 4 10 9\n",
    "3 8 2 5 6 1 7 4 10 9\n",
    "3 2 8 5 6 1 7 4 10 9\n",
    "3 2 5 8 6 1 7 4 10 9\n",
    "3 2 5 6 8 1 7 4 10 9\n",
    "...\n",
    "\n",
    "한번 정렬을 하고나면 가장 큰 값이 뒤에 있게 됨.\n",
    "이후 가장 뒤에 있는 값을 제외한 앞에 있는 값들에 대해 다시 정렬 수행\n",
    "\n",
    "선택 정렬과 마찬가지로 최악의 경우 n번 돌고, n-1번 돌고, n-2번 돌고 ... 1번 도는 형태이므로\n",
    "복잡도는 {n*(n+1)}/2이고, n이 무한히 커지면 O(n*n)이 된다.\n",
    "\n",
    "선택 정렬과 복잡도는 같지만 실제로 정렬을 수행하면 선택정렬보다 오래 걸림\n",
    "=> 매번 옆에 있는 값과 비교하여 자리를 바꿔주는 연산을 실행하기 때문에 더 오래 걸림."
   ]
  },
  {
   "cell_type": "code",
   "execution_count": null,
   "metadata": {},
   "outputs": [],
   "source": [
    "#버블 정렬\n",
    "def bubbleSort(x):\n",
    "    length=len(x)-1\n",
    "    for i in range(length):\n",
    "        for j in range(length-i):\n",
    "            if x[j]>x[j+1]:\n",
    "                x[j], x[j+1]=x[j+1], x[j]\n",
    "    return x"
   ]
  },
  {
   "cell_type": "markdown",
   "metadata": {},
   "source": [
    "  \n",
    "## 삽입 정렬 (Insertion Sort)\n",
    "\n",
    "---\n",
    "\n",
    "***“각 숫자를 적절한 위치에 삽입”***\n",
    "\n",
    "앞에 있는 원소들 중 어떤 위치가 적절한지 파악하여 그 위치로 이동하여 정렬\n",
    "어느정도 정렬이 수행되면 왼쪽에 위치한 원소들은 이미 정렬이 되어 있으므로 위치만 맞춰서 넣어주기만 하면 됨.\n",
    "=> 이로 인해 버블 정렬과 선택 정렬보다 좀 더 효율적\n",
    "\n",
    "ex) 3 8 2 5 6 1 7 4 10 9\n",
    "2 3 8 5 6 1 7 4 10 9\n",
    "2 3 5 8 6 1 7 4 10 9\n",
    "2 3 5 6 8 1 7 4 10 9\n",
    "1 2 3 5 6 8 7 4 10 9\n",
    "…\n",
    "\n",
    "![insertion sort example](https://upload.wikimedia.org/wikipedia/commons/e/ea/Insertion_sort_001.PNG)\n",
    "\n",
    "복잡도는 역시 최악의 경우 n번 수행, n-1번 수행, n-2번 수행 ... 1번 수행하므로 O(n*n)이 된다."
   ]
  },
  {
   "cell_type": "code",
   "execution_count": null,
   "metadata": {},
   "outputs": [],
   "source": [
    "#삽입 정렬\n",
    "def insertSort(x):\n",
    "    for i in range(1, len(x)):\n",
    "        j=i-1\n",
    "        key=x[i]\n",
    "        while x[j]>key and j>=0:\n",
    "            x[j+1]=x[j]\n",
    "            j=j-1\n",
    "        x[j+1]=key\n",
    "    return x"
   ]
  }
 ],
 "metadata": {
  "language_info": {
   "name": "python"
  },
  "orig_nbformat": 4
 },
 "nbformat": 4,
 "nbformat_minor": 2
}
